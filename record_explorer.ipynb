{
 "cells": [
  {
   "cell_type": "code",
   "execution_count": 7,
   "id": "587273f9",
   "metadata": {},
   "outputs": [],
   "source": [
    "import os\n",
    "import pandas as pd"
   ]
  },
  {
   "cell_type": "code",
   "execution_count": 8,
   "id": "646d80e0",
   "metadata": {},
   "outputs": [
    {
     "name": "stdout",
     "output_type": "stream",
     "text": [
      "['mariners_name', 'year_of_birth', 'age', 'place_of_birth', 'home_address', 'blank', 'name_of_last_ship', 'port_last_ship_belonged_to', 'date_of_leaving_last_ship', 'date_joining_this_ship', 'port_of_joining_this_ship', 'capacity_this_ship', 'date_left_port', 'port_of_leaving', 'cause_for_leaving_or_remain_on_board', 'signed_with_a_mark_(y/n)', 'any_additional_notes']\n"
     ]
    }
   ],
   "source": [
    "with open('./column_headers.txt', 'r') as col_file:\n",
    "    cols = col_file.read()\n",
    "    col_headers = cols.lower().split('\\n')\n",
    "    print(col_headers)"
   ]
  },
  {
   "cell_type": "markdown",
   "id": "7b46d2a5",
   "metadata": {},
   "source": [
    "\"./ABERSHIP_transcription_vtls004566921/Series 1 - 10/File_1-2_vtls004583119.xlsx\"\n",
    "\"./ABERSHIP_transcription_vtls004566921/Series 1 - 10\""
   ]
  },
  {
   "cell_type": "code",
   "execution_count": 47,
   "id": "3f070bc8",
   "metadata": {},
   "outputs": [
    {
     "name": "stdout",
     "output_type": "stream",
     "text": [
      "./ABERSHIP_transcription_vtls004566921/.DS_Store\n",
      "./ABERSHIP_transcription_vtls004566921/Series 391 - 400/.DS_Store\n",
      "./ABERSHIP_transcription_vtls004566921/Series 541 - 544/.DS_Store\n",
      "./ABERSHIP_transcription_vtls004566921/Series 61 - 70/.DS_Store\n",
      "./ABERSHIP_transcription_vtls004566921/Series 111 - 120/Series_118_vtls004570012/~$File_118-20_vtls04640961.xlsx\n",
      "./ABERSHIP_transcription_vtls004566921/Series 111 - 120/Series_118_vtls004570012/~$File_118-6_vtls004640820.xlsx\n",
      "./ABERSHIP_transcription_vtls004566921/Series 111 - 120/Series_118_vtls004570012/~$File_118-7_vtls004640846.xlsx\n",
      "./ABERSHIP_transcription_vtls004566921/Series 111 - 120/Series_119_vtls004570014/~$File_119-1_vtls004641002.xlsx\n",
      "./ABERSHIP_transcription_vtls004566921/Series 111 - 120/Series_119_vtls004570014/~$File_119-2_vtls004641012.xlsx\n",
      "./ABERSHIP_transcription_vtls004566921/Series 181 - 190/.DS_Store\n",
      "./ABERSHIP_transcription_vtls004566921/Series 301 - 310/Series_306_vtls004571689/~$File_306-2_vtls004692989.xlsx\n",
      "./ABERSHIP_transcription_vtls004566921/Series 291 - 300/Series_294_vtls004571601/Book1.xlsx\n",
      "./ABERSHIP_transcription_vtls004566921/Series 1 - 10/.DS_Store\n",
      "./ABERSHIP_transcription_vtls004566921/Series 1 - 10/Series_8_vtls004567424/~$File_8-1_vtls004587965.xlsx\n",
      "./ABERSHIP_transcription_vtls004566921/Series 1 - 10/Series_10_vtls004567448/~$File_10-10_vtls004589021.xlsx\n",
      "./ABERSHIP_transcription_vtls004566921/Series 1 - 10/Series_3_vtls004566971/~$File_3-1_vtls004586023.xlsx\n",
      "./ABERSHIP_transcription_vtls004566921/Series 1 - 10/Series_1_vtls004566957/~$File_1-4_vlts004583279.xlsx\n",
      "./ABERSHIP_transcription_vtls004566921/Series 1 - 10/Series_1_vtls004566957/~$File_1-6_vtls004583549.xlsx\n",
      "./ABERSHIP_transcription_vtls004566921/Series 231 - 240/Series_232_vtls004571125/~$File_232-6_vtls004664359.xlsx\n",
      "./ABERSHIP_transcription_vtls004566921/Series 11 - 20/.DS_Store\n",
      "./ABERSHIP_transcription_vtls004566921/Series 511 - 520/Series_518_vtls004573981/~$File_518-8_vtls004971633.xlsx\n",
      "./ABERSHIP_transcription_vtls004566921/Series 71 - 80/Series_72_vtls004569195/~$File_72-6_vtls004627602.xlsx\n",
      "./ABERSHIP_transcription_vtls004566921/Series 71 - 80/Series_72_vtls004569195/~$File_72-5_vtls004627599.xlsx\n",
      "Run Complete\n"
     ]
    }
   ],
   "source": [
    "bad_files = {}\n",
    "write_header = True\n",
    "#vessel_info = {}\n",
    "metadata_cols = ['file_path', 'file_name']\n",
    "with open('./complete_set.csv', 'w') as complete, open('./meta.csv', 'w') as meta:\n",
    "    for root, dirs, files in os.walk(\"./ABERSHIP_transcription_vtls004566921\", topdown=True):\n",
    "\n",
    "        for i, name in enumerate(files):\n",
    "            file_name = []\n",
    "            f = os.path.join(root, name)\n",
    "            file_name.append(f)\n",
    "            #print(file_name)\n",
    "            # build up record per directory?\n",
    "            #if f == './ABERSHIP_transcription_vtls004566921/Series 1 - 10/Series_1_vtls004566957/File_1-2_vtls004583119.xlsx':\n",
    "            try:\n",
    "                df = pd.read_excel(f, header=None)\n",
    "            except Exception as e:\n",
    "                bad_files[f] = e\n",
    "                continue\n",
    "\n",
    "            vessel_df = df[0:6]\n",
    "            #display(vessel_df)\n",
    "#                 vessel_info['vessel'] = vessel_df.iloc[1,5]\n",
    "#                 vessel_info['ship_no'] = vessel_df.iloc[3,5]\n",
    "#                 vessel_info['port_of_reg'] = vessel_df.iloc[1,5]\n",
    "\n",
    "            ''' First two rows of details are examplars and aways same'''\n",
    "            # Maybe put in check for this assumption?\n",
    "            details_df = df.iloc[11:]\n",
    "            #display(details_df)\n",
    "            #print(details_df.shape)\n",
    "            try:\n",
    "                details_df.columns = col_headers\n",
    "            except Exception as e:\n",
    "                bad_files[f] = e\n",
    "                continue\n",
    "            #display(details_df)\n",
    "\n",
    "            details_df.insert(0, 'vessel', vessel_df.iloc[1,5], True)\n",
    "            details_df.insert(1, 'ship_no', vessel_df.iloc[3,5], True)\n",
    "            details_df.insert(2, 'port_of_reg', vessel_df.iloc[1,5], True)\n",
    "\n",
    "            details_df.insert(len(details_df.columns), 'file_path', f, True)\n",
    "\n",
    "            details_df.to_csv(complete, header=write_header)\n",
    "            write_header = False\n",
    "            \n",
    "            meta.write(f\"{name},{f}\\n\")\n",
    "\n",
    "            #display(details_df)\n",
    "        \n",
    "        \n",
    "print(*bad_files, sep='\\n')\n",
    "\n",
    "print('Run Complete')\n",
    "\n",
    "\n",
    "\n"
   ]
  }
 ],
 "metadata": {
  "kernelspec": {
   "display_name": "Python 3 (ipykernel)",
   "language": "python",
   "name": "python3"
  },
  "language_info": {
   "codemirror_mode": {
    "name": "ipython",
    "version": 3
   },
   "file_extension": ".py",
   "mimetype": "text/x-python",
   "name": "python",
   "nbconvert_exporter": "python",
   "pygments_lexer": "ipython3",
   "version": "3.9.7"
  }
 },
 "nbformat": 4,
 "nbformat_minor": 5
}
